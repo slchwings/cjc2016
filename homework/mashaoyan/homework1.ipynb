{
 "cells": [
  {
   "cell_type": "markdown",
   "metadata": {},
   "source": [
    "# 老师辛苦了！\n",
    "我是马绍炎，这是我的作业"
   ]
  },
  {
   "cell_type": "code",
   "execution_count": 20,
   "metadata": {
    "collapsed": false
   },
   "outputs": [],
   "source": [
    "import random, datetime\n",
    "import numpy as np\n",
    "import pylab as plt\n",
    "import statsmodels.api as sm\n",
    "from scipy.stats import norm\n",
    "from scipy.stats.stats import pearsonr\n"
   ]
  },
  {
   "cell_type": "code",
   "execution_count": 1,
   "metadata": {
    "collapsed": false
   },
   "outputs": [
    {
     "data": {
      "text/plain": [
       "'3'"
      ]
     },
     "execution_count": 1,
     "metadata": {},
     "output_type": "execute_result"
    }
   ],
   "source": [
    "str(3)"
   ]
  },
  {
   "cell_type": "code",
   "execution_count": 2,
   "metadata": {
    "collapsed": false
   },
   "outputs": [
    {
     "data": {
      "text/plain": [
       "5"
      ]
     },
     "execution_count": 2,
     "metadata": {},
     "output_type": "execute_result"
    }
   ],
   "source": [
    "int('5')"
   ]
  },
  {
   "cell_type": "code",
   "execution_count": 3,
   "metadata": {
    "collapsed": false
   },
   "outputs": [
    {
     "data": {
      "text/plain": [
       "7.1"
      ]
     },
     "execution_count": 3,
     "metadata": {},
     "output_type": "execute_result"
    }
   ],
   "source": [
    "float('7.1')"
   ]
  },
  {
   "cell_type": "code",
   "execution_count": 4,
   "metadata": {
    "collapsed": false
   },
   "outputs": [
    {
     "data": {
      "text/plain": [
       "[0, 1, 2, 3, 4, 5, 6, 7, 8, 9]"
      ]
     },
     "execution_count": 4,
     "metadata": {},
     "output_type": "execute_result"
    }
   ],
   "source": [
    "range(10)"
   ]
  },
  {
   "cell_type": "code",
   "execution_count": 5,
   "metadata": {
    "collapsed": false
   },
   "outputs": [
    {
     "data": {
      "text/plain": [
       "[1, 2, 3, 4, 5, 6, 7, 8, 9]"
      ]
     },
     "execution_count": 5,
     "metadata": {},
     "output_type": "execute_result"
    }
   ],
   "source": [
    "range(1,10)"
   ]
  },
  {
   "cell_type": "code",
   "execution_count": 6,
   "metadata": {
    "collapsed": false
   },
   "outputs": [
    {
     "data": {
      "text/plain": [
       "<function dir>"
      ]
     },
     "execution_count": 6,
     "metadata": {},
     "output_type": "execute_result"
    }
   ],
   "source": [
    "dir"
   ]
  },
  {
   "cell_type": "code",
   "execution_count": 7,
   "metadata": {
    "collapsed": false
   },
   "outputs": [
    {
     "data": {
      "text/plain": [
       "<function dir>"
      ]
     },
     "execution_count": 7,
     "metadata": {},
     "output_type": "execute_result"
    }
   ],
   "source": [
    "dir"
   ]
  },
  {
   "cell_type": "code",
   "execution_count": 8,
   "metadata": {
    "collapsed": false
   },
   "outputs": [
    {
     "data": {
      "text/plain": [
       "['swapcase', 'title', 'translate', 'upper', 'zfill']"
      ]
     },
     "execution_count": 8,
     "metadata": {},
     "output_type": "execute_result"
    }
   ],
   "source": [
    "dir(str)[-5:]"
   ]
  },
  {
   "cell_type": "code",
   "execution_count": 9,
   "metadata": {
    "collapsed": false
   },
   "outputs": [
    {
     "data": {
      "text/plain": [
       "['rstrip',\n",
       " 'split',\n",
       " 'splitlines',\n",
       " 'startswith',\n",
       " 'strip',\n",
       " 'swapcase',\n",
       " 'title',\n",
       " 'translate',\n",
       " 'upper',\n",
       " 'zfill']"
      ]
     },
     "execution_count": 9,
     "metadata": {},
     "output_type": "execute_result"
    }
   ],
   "source": [
    "x='Hello WorlD'\n",
    "dir(x)[-10:]"
   ]
  },
  {
   "cell_type": "code",
   "execution_count": 16,
   "metadata": {
    "collapsed": false
   },
   "outputs": [
    {
     "data": {
      "text/plain": [
       "'hello world'"
      ]
     },
     "execution_count": 16,
     "metadata": {},
     "output_type": "execute_result"
    }
   ],
   "source": [
    "x.lower()"
   ]
  },
  {
   "cell_type": "code",
   "execution_count": 12,
   "metadata": {
    "collapsed": false
   },
   "outputs": [
    {
     "data": {
      "text/plain": [
       "'HELLO WORLD'"
      ]
     },
     "execution_count": 12,
     "metadata": {},
     "output_type": "execute_result"
    }
   ],
   "source": [
    "x.upper()"
   ]
  },
  {
   "cell_type": "code",
   "execution_count": 23,
   "metadata": {
    "collapsed": false
   },
   "outputs": [
    {
     "data": {
      "text/plain": [
       "' Hello World'"
      ]
     },
     "execution_count": 23,
     "metadata": {},
     "output_type": "execute_result"
    }
   ],
   "source": [
    "x=' Hello World '\n",
    "x.rstrip()"
   ]
  },
  {
   "cell_type": "code",
   "execution_count": 24,
   "metadata": {
    "collapsed": false
   },
   "outputs": [
    {
     "data": {
      "text/plain": [
       "str"
      ]
     },
     "execution_count": 24,
     "metadata": {},
     "output_type": "execute_result"
    }
   ],
   "source": [
    "x='hello world'\n",
    "type(x)"
   ]
  },
  {
   "cell_type": "code",
   "execution_count": 25,
   "metadata": {
    "collapsed": false
   },
   "outputs": [
    {
     "name": "stdout",
     "output_type": "stream",
     "text": [
      "[1, 2, 3, 4, 5, 6] (1, 2, 4, 6, 7, 8) set([1, 3, 4, 5, 6, 7]) {'e': 2, 'd': 1, 'f': 3} [1 2 3 4 5 6]\n"
     ]
    }
   ],
   "source": [
    "l=[1,2,3,4,5,6]\n",
    "t=(1,2,4,6,7,8)\n",
    "s=set([1,3,4,4,5,6,6,7])\n",
    "d={'d':1,'e':2,'f':3}\n",
    "m=np.array(l)\n",
    "print l, t, s, d, m \n",
    "    "
   ]
  },
  {
   "cell_type": "code",
   "execution_count": 28,
   "metadata": {
    "collapsed": false
   },
   "outputs": [
    {
     "data": {
      "text/plain": [
       "['I', 'sel', 'eeee', '0', 'LOVE']"
      ]
     },
     "execution_count": 28,
     "metadata": {},
     "output_type": "execute_result"
    }
   ],
   "source": [
    "s=['I','sel','eeee','0']\n",
    "s.append('LOVE')\n",
    "s"
   ]
  },
  {
   "cell_type": "code",
   "execution_count": 29,
   "metadata": {
    "collapsed": false
   },
   "outputs": [
    {
     "data": {
      "text/plain": [
       "['love', 'is', 'my', 'you', 'for']"
      ]
     },
     "execution_count": 29,
     "metadata": {},
     "output_type": "execute_result"
    }
   ],
   "source": [
    "d={'my':1,'love':2,'is':3,'for':4,'you':5}\n",
    "d.keys()"
   ]
  },
  {
   "cell_type": "code",
   "execution_count": 30,
   "metadata": {
    "collapsed": false
   },
   "outputs": [
    {
     "data": {
      "text/plain": [
       "[2, 3, 1, 5, 4]"
      ]
     },
     "execution_count": 30,
     "metadata": {},
     "output_type": "execute_result"
    }
   ],
   "source": [
    "d={'my':1,'love':2,'is':3,'for':4,'you':5}\n",
    "d.values()"
   ]
  },
  {
   "cell_type": "code",
   "execution_count": 31,
   "metadata": {
    "collapsed": false
   },
   "outputs": [
    {
     "data": {
      "text/plain": [
       "2"
      ]
     },
     "execution_count": 31,
     "metadata": {},
     "output_type": "execute_result"
    }
   ],
   "source": [
    "d={'my':1,'love':2,'is':3,'for':4,'you':5}\n",
    "d['love']"
   ]
  },
  {
   "cell_type": "code",
   "execution_count": 32,
   "metadata": {
    "collapsed": false
   },
   "outputs": [
    {
     "data": {
      "text/plain": [
       "[('love', 2), ('is', 3), ('my', 1), ('you', 5), ('for', 4)]"
      ]
     },
     "execution_count": 32,
     "metadata": {},
     "output_type": "execute_result"
    }
   ],
   "source": [
    "d={'my':1,'love':2,'is':3,'for':4,'you':5}\n",
    "d.items()"
   ]
  },
  {
   "cell_type": "code",
   "execution_count": 35,
   "metadata": {
    "collapsed": false
   },
   "outputs": [
    {
     "name": "stdout",
     "output_type": "stream",
     "text": [
      "['I miss you']\n"
     ]
    }
   ],
   "source": [
    "def ms(x,y,z):    \n",
    "    return str(x+' '+y+' '+z)\n",
    "\n",
    "s=[ms('I','miss','you')]\n",
    "print s\n"
   ]
  },
  {
   "cell_type": "code",
   "execution_count": 40,
   "metadata": {
    "collapsed": false
   },
   "outputs": [
    {
     "name": "stdout",
     "output_type": "stream",
     "text": [
      "0\n",
      "1\n",
      "4\n",
      "9\n",
      "16\n",
      "25\n",
      "36\n",
      "49\n",
      "64\n",
      "81\n"
     ]
    }
   ],
   "source": [
    "for i in range(10):\n",
    "    print i*i\n"
   ]
  },
  {
   "cell_type": "code",
   "execution_count": 41,
   "metadata": {
    "collapsed": false
   },
   "outputs": [
    {
     "data": {
      "text/plain": [
       "[0, 6, 12, 18, 24, 30]"
      ]
     },
     "execution_count": 41,
     "metadata": {},
     "output_type": "execute_result"
    }
   ],
   "source": [
    "def count (m,n,s):\n",
    "    return m*n+s\n",
    "r=[count(i,5,i) for i in range(6)]\n",
    "r"
   ]
  },
  {
   "cell_type": "code",
   "execution_count": 42,
   "metadata": {
    "collapsed": false
   },
   "outputs": [
    {
     "data": {
      "text/plain": [
       "[4, 11, 18]"
      ]
     },
     "execution_count": 42,
     "metadata": {},
     "output_type": "execute_result"
    }
   ],
   "source": [
    "map(count,[1,4,5],[2,2,3],[2,3,3])"
   ]
  },
  {
   "cell_type": "code",
   "execution_count": 43,
   "metadata": {
    "collapsed": false
   },
   "outputs": [
    {
     "name": "stdout",
     "output_type": "stream",
     "text": [
      "2014不是闰年\n"
     ]
    }
   ],
   "source": [
    "j=2014\n",
    "if j%4==0:\n",
    "    print r'2014是闰年'\n",
    "else:\n",
    "    print r'2014不是闰年'\n",
    "    "
   ]
  },
  {
   "cell_type": "code",
   "execution_count": 48,
   "metadata": {
    "collapsed": false
   },
   "outputs": [
    {
     "name": "stdout",
     "output_type": "stream",
     "text": [
      "很遗憾，加油！\n"
     ]
    }
   ],
   "source": [
    "x=1\n",
    "if x>1:\n",
    "    print r'恭喜你成功了！'\n",
    "elif x<1:\n",
    "    print r'再接再厉！'\n",
    "else:\n",
    "    print r'很遗憾，加油！'"
   ]
  },
  {
   "cell_type": "code",
   "execution_count": 50,
   "metadata": {
    "collapsed": false
   },
   "outputs": [
    {
     "name": "stdout",
     "output_type": "stream",
     "text": [
      " 0\n",
      "1\n",
      "2\n",
      "3\n",
      "4\n",
      "5\n",
      "6\n"
     ]
    }
   ],
   "source": [
    "i=0\n",
    "while i<7:\n",
    "    print i\n",
    "    i+=1"
   ]
  },
  {
   "cell_type": "code",
   "execution_count": 52,
   "metadata": {
    "collapsed": false
   },
   "outputs": [
    {
     "name": "stdout",
     "output_type": "stream",
     "text": [
      "1\n",
      "4\n",
      "9\n",
      "16\n",
      "25\n",
      "36\n",
      "49\n",
      "64\n",
      "81\n"
     ]
    }
   ],
   "source": [
    "i=1\n",
    "while i<10:\n",
    "    print i*i\n",
    "    i+=1"
   ]
  },
  {
   "cell_type": "code",
   "execution_count": 55,
   "metadata": {
    "collapsed": false
   },
   "outputs": [
    {
     "name": "stdout",
     "output_type": "stream",
     "text": [
      "2\n",
      "4\n",
      "6\n",
      "8\n",
      "10\n"
     ]
    }
   ],
   "source": [
    "j=1\n",
    "while j<20:\n",
    "    if j==12:\n",
    "        break\n",
    "    if j%2==0:\n",
    "        print j\n",
    "    j+=1\n"
   ]
  },
  {
   "cell_type": "code",
   "execution_count": 59,
   "metadata": {
    "collapsed": false
   },
   "outputs": [
    {
     "name": "stdout",
     "output_type": "stream",
     "text": [
      "integer division or modulo by zero\n",
      "1.0\n",
      "0.0\n",
      "0.0\n",
      "0.0\n"
     ]
    }
   ],
   "source": [
    "def moc(m,n):\n",
    "    return m/n\n",
    "for a in range(0,5):\n",
    "    try:\n",
    "        print float(moc(1,a))\n",
    "    except Exception, c:\n",
    "        print c\n",
    "        pass\n",
    "\n"
   ]
  },
  {
   "cell_type": "code",
   "execution_count": 60,
   "metadata": {
    "collapsed": false
   },
   "outputs": [
    {
     "data": {
      "text/plain": [
       "[[0, 0, 0],\n",
       " [1, 2, 4],\n",
       " [2, 4, 8],\n",
       " [3, 6, 12],\n",
       " [4, 8, 16],\n",
       " [5, 10, 20],\n",
       " [6, 12, 24],\n",
       " [7, 14, 28],\n",
       " [8, 16, 32],\n",
       " [9, 18, 36],\n",
       " [10, 20, 40],\n",
       " [11, 22, 44],\n",
       " [12, 24, 48],\n",
       " [13, 26, 52],\n",
       " [14, 28, 56],\n",
       " [15, 30, 60],\n",
       " [16, 32, 64],\n",
       " [17, 34, 68],\n",
       " [18, 36, 72],\n",
       " [19, 38, 76],\n",
       " [20, 40, 80],\n",
       " [21, 42, 84],\n",
       " [22, 44, 88],\n",
       " [23, 46, 92],\n",
       " [24, 48, 96],\n",
       " [25, 50, 100],\n",
       " [26, 52, 104],\n",
       " [27, 54, 108],\n",
       " [28, 56, 112],\n",
       " [29, 58, 116],\n",
       " [30, 60, 120],\n",
       " [31, 62, 124],\n",
       " [32, 64, 128],\n",
       " [33, 66, 132],\n",
       " [34, 68, 136],\n",
       " [35, 70, 140],\n",
       " [36, 72, 144],\n",
       " [37, 74, 148],\n",
       " [38, 76, 152],\n",
       " [39, 78, 156],\n",
       " [40, 80, 160],\n",
       " [41, 82, 164],\n",
       " [42, 84, 168],\n",
       " [43, 86, 172],\n",
       " [44, 88, 176],\n",
       " [45, 90, 180],\n",
       " [46, 92, 184],\n",
       " [47, 94, 188],\n",
       " [48, 96, 192],\n",
       " [49, 98, 196],\n",
       " [50, 100, 200],\n",
       " [51, 102, 204],\n",
       " [52, 104, 208],\n",
       " [53, 106, 212],\n",
       " [54, 108, 216],\n",
       " [55, 110, 220],\n",
       " [56, 112, 224],\n",
       " [57, 114, 228],\n",
       " [58, 116, 232],\n",
       " [59, 118, 236],\n",
       " [60, 120, 240],\n",
       " [61, 122, 244],\n",
       " [62, 124, 248],\n",
       " [63, 126, 252],\n",
       " [64, 128, 256],\n",
       " [65, 130, 260],\n",
       " [66, 132, 264],\n",
       " [67, 134, 268],\n",
       " [68, 136, 272],\n",
       " [69, 138, 276],\n",
       " [70, 140, 280],\n",
       " [71, 142, 284],\n",
       " [72, 144, 288],\n",
       " [73, 146, 292],\n",
       " [74, 148, 296],\n",
       " [75, 150, 300],\n",
       " [76, 152, 304],\n",
       " [77, 154, 308],\n",
       " [78, 156, 312],\n",
       " [79, 158, 316],\n",
       " [80, 160, 320],\n",
       " [81, 162, 324],\n",
       " [82, 164, 328],\n",
       " [83, 166, 332],\n",
       " [84, 168, 336],\n",
       " [85, 170, 340],\n",
       " [86, 172, 344],\n",
       " [87, 174, 348],\n",
       " [88, 176, 352],\n",
       " [89, 178, 356],\n",
       " [90, 180, 360],\n",
       " [91, 182, 364],\n",
       " [92, 184, 368],\n",
       " [93, 186, 372],\n",
       " [94, 188, 376],\n",
       " [95, 190, 380],\n",
       " [96, 192, 384],\n",
       " [97, 194, 388],\n",
       " [98, 196, 392],\n",
       " [99, 198, 396]]"
      ]
     },
     "execution_count": 60,
     "metadata": {},
     "output_type": "execute_result"
    }
   ],
   "source": [
    "ms=[[i,i*2,i*4] for i in range (100)]\n",
    "ms\n",
    "\n",
    "    "
   ]
  },
  {
   "cell_type": "code",
   "execution_count": 63,
   "metadata": {
    "collapsed": false
   },
   "outputs": [
    {
     "name": "stdout",
     "output_type": "stream",
     "text": [
      "0\t0\t0\n",
      "1\t2\t4\n",
      "2\t4\t8\n",
      "3\t6\t12\n",
      "4\t8\t16\n",
      "5\t10\t20\n",
      "6\t12\t24\n",
      "7\t14\t28\n",
      "8\t16\t32\n",
      "9\t18\t36\n",
      "10\t20\t40\n",
      "11\t22\t44\n",
      "12\t24\t48\n",
      "13\t26\t52\n",
      "14\t28\t56\n",
      "15\t30\t60\n",
      "16\t32\t64\n",
      "17\t34\t68\n",
      "18\t36\t72\n",
      "19\t38\t76\n",
      "20\t40\t80\n",
      "21\t42\t84\n",
      "22\t44\t88\n",
      "23\t46\t92\n",
      "24\t48\t96\n",
      "25\t50\t100\n",
      "26\t52\t104\n",
      "27\t54\t108\n",
      "28\t56\t112\n",
      "29\t58\t116\n",
      "30\t60\t120\n",
      "31\t62\t124\n",
      "32\t64\t128\n",
      "33\t66\t132\n",
      "34\t68\t136\n",
      "35\t70\t140\n",
      "36\t72\t144\n",
      "37\t74\t148\n",
      "38\t76\t152\n",
      "39\t78\t156\n",
      "40\t80\t160\n",
      "41\t82\t164\n",
      "42\t84\t168\n",
      "43\t86\t172\n",
      "44\t88\t176\n",
      "45\t90\t180\n",
      "46\t92\t184\n",
      "47\t94\t188\n",
      "48\t96\t192\n",
      "49\t98\t196\n",
      "50\t100\t200\n",
      "51\t102\t204\n",
      "52\t104\t208\n",
      "53\t106\t212\n",
      "54\t108\t216\n",
      "55\t110\t220\n",
      "56\t112\t224\n",
      "57\t114\t228\n",
      "58\t116\t232\n",
      "59\t118\t236\n",
      "60\t120\t240\n",
      "61\t122\t244\n",
      "62\t124\t248\n",
      "63\t126\t252\n",
      "64\t128\t256\n",
      "65\t130\t260\n",
      "66\t132\t264\n",
      "67\t134\t268\n",
      "68\t136\t272\n",
      "69\t138\t276\n",
      "70\t140\t280\n",
      "71\t142\t284\n",
      "72\t144\t288\n",
      "73\t146\t292\n",
      "74\t148\t296\n",
      "75\t150\t300\n",
      "76\t152\t304\n",
      "77\t154\t308\n",
      "78\t156\t312\n",
      "79\t158\t316\n",
      "80\t160\t320\n",
      "81\t162\t324\n",
      "82\t164\t328\n",
      "83\t166\t332\n",
      "84\t168\t336\n",
      "85\t170\t340\n",
      "86\t172\t344\n",
      "87\t174\t348\n",
      "88\t176\t352\n",
      "89\t178\t356\n",
      "90\t180\t360\n",
      "91\t182\t364\n",
      "92\t184\t368\n",
      "93\t186\t372\n",
      "94\t188\t376\n",
      "95\t190\t380\n",
      "96\t192\t384\n",
      "97\t194\t388\n",
      "98\t196\t392\n",
      "99\t198\t396\n"
     ]
    }
   ],
   "source": [
    "for x in ms:\n",
    "    print '\\t'.join(map(str,x))"
   ]
  },
  {
   "cell_type": "code",
   "execution_count": 64,
   "metadata": {
    "collapsed": false
   },
   "outputs": [
    {
     "data": {
      "text/plain": [
       "list"
      ]
     },
     "execution_count": 64,
     "metadata": {},
     "output_type": "execute_result"
    }
   ],
   "source": [
    "type(ms)"
   ]
  },
  {
   "cell_type": "code",
   "execution_count": 65,
   "metadata": {
    "collapsed": false
   },
   "outputs": [
    {
     "data": {
      "text/plain": [
       "100"
      ]
     },
     "execution_count": 65,
     "metadata": {},
     "output_type": "execute_result"
    }
   ],
   "source": [
    "len(ms)"
   ]
  },
  {
   "cell_type": "code",
   "execution_count": 66,
   "metadata": {
    "collapsed": false
   },
   "outputs": [
    {
     "data": {
      "text/plain": [
       "[99, 198, 396]"
      ]
     },
     "execution_count": 66,
     "metadata": {},
     "output_type": "execute_result"
    }
   ],
   "source": [
    "ms[-1] #"
   ]
  },
  {
   "cell_type": "code",
   "execution_count": 75,
   "metadata": {
    "collapsed": false
   },
   "outputs": [],
   "source": [
    "mydata=[[i,i*i] for i in range (10)]\n",
    "s=open(\"/Users/Administrator/Desktop/ms/data.txt\",\"wb\")\n",
    "for j in mydata:\n",
    "    s.write('\\t'.join(map(str,j))+'\\n')\n",
    "s.close()\n"
   ]
  },
  {
   "cell_type": "code",
   "execution_count": 79,
   "metadata": {
    "collapsed": false
   },
   "outputs": [
    {
     "data": {
      "text/plain": [
       "['3\\t9\\n', '4\\t16\\n', '5\\t25\\n', '6\\t36\\n', '7\\t49\\n', '8\\t64\\n', '9\\t81\\n']"
      ]
     },
     "execution_count": 79,
     "metadata": {},
     "output_type": "execute_result"
    }
   ],
   "source": [
    "with open('/Users/Administrator/Desktop/ms/data.txt','r') as p:\n",
    "     q=p.readlines()\n",
    "q[3:]"
   ]
  },
  {
   "cell_type": "code",
   "execution_count": 84,
   "metadata": {
    "collapsed": false
   },
   "outputs": [
    {
     "data": {
      "text/plain": [
       "10"
      ]
     },
     "execution_count": 84,
     "metadata": {},
     "output_type": "execute_result"
    }
   ],
   "source": [
    "with open('/Users/Administrator/Desktop/ms/data.txt','r') as p:\n",
    "    q=p.readlines(4)\n",
    "len(q)"
   ]
  },
  {
   "cell_type": "code",
   "execution_count": 86,
   "metadata": {
    "collapsed": false
   },
   "outputs": [
    {
     "name": "stdout",
     "output_type": "stream",
     "text": [
      "0\t0\n",
      "\n"
     ]
    }
   ],
   "source": [
    "with open('/Users/Administrator/Desktop/ms/data.txt','r') as p:\n",
    "    print p.readline()"
   ]
  },
  {
   "cell_type": "code",
   "execution_count": 87,
   "metadata": {
    "collapsed": false
   },
   "outputs": [
    {
     "data": {
      "text/plain": [
       "'9\\t81\\n'"
      ]
     },
     "execution_count": 87,
     "metadata": {},
     "output_type": "execute_result"
    }
   ],
   "source": [
    "with open('/Users/Administrator/Desktop/ms/data.txt','r') as p:\n",
    "    q=p.readlines()\n",
    "q[-1]"
   ]
  },
  {
   "cell_type": "code",
   "execution_count": 89,
   "metadata": {
    "collapsed": false
   },
   "outputs": [
    {
     "name": "stdout",
     "output_type": "stream",
     "text": [
      "0\t0\n",
      "\n",
      "2\t4\n",
      "\n",
      "4\t16\n",
      "\n",
      "6\t36\n",
      "\n",
      "8\t64\n",
      "\n"
     ]
    }
   ],
   "source": [
    "with open('/Users/Administrator/Desktop/ms/data.txt','r') as p:\n",
    "    for i,j in enumerate(p):\n",
    "        if i%2==0:\n",
    "            print j\n",
    "       "
   ]
  },
  {
   "cell_type": "code",
   "execution_count": 90,
   "metadata": {
    "collapsed": false
   },
   "outputs": [
    {
     "data": {
      "text/plain": [
       "[[0, 0],\n",
       " [1, 1],\n",
       " [2, 4],\n",
       " [3, 9],\n",
       " [4, 16],\n",
       " [5, 25],\n",
       " [6, 36],\n",
       " [7, 49],\n",
       " [8, 64],\n",
       " [9, 81]]"
      ]
     },
     "execution_count": 90,
     "metadata": {},
     "output_type": "execute_result"
    }
   ],
   "source": [
    "list =[]\n",
    "with open ('/Users/Administrator/Desktop/ms/data.txt','r') as p:\n",
    "    for l in p:\n",
    "        l=l.replace('\\n','').split('\\t')\n",
    "        l=[int(i) for i in l]\n",
    "        list.append(l)\n",
    "list\n",
    "        "
   ]
  },
  {
   "cell_type": "code",
   "execution_count": 94,
   "metadata": {
    "collapsed": false
   },
   "outputs": [],
   "source": [
    "import json \n",
    "dict={'color':1,'sex':5,'age':3}\n",
    "with open ('/Users/Administrator/Desktop/ms/profile.json','w') as d:\n",
    "    json.dump(dict, d)\n"
   ]
  },
  {
   "cell_type": "code",
   "execution_count": 95,
   "metadata": {
    "collapsed": false
   },
   "outputs": [
    {
     "data": {
      "text/plain": [
       "{u'age': 3, u'color': 1, u'sex': 5}"
      ]
     },
     "execution_count": 95,
     "metadata": {},
     "output_type": "execute_result"
    }
   ],
   "source": [
    "w=json.load(open ('/Users/Administrator/Desktop/ms/profile.json'))\n",
    "w"
   ]
  },
  {
   "cell_type": "code",
   "execution_count": 98,
   "metadata": {
    "collapsed": false
   },
   "outputs": [
    {
     "data": {
      "text/plain": [
       "[0, 1, 2, 3, 4, 5, 6, 7]"
      ]
     },
     "execution_count": 98,
     "metadata": {},
     "output_type": "execute_result"
    }
   ],
   "source": [
    "list=range(8)\n",
    "with open ('/Users/Administrator/Desktop/ms/list.json','w') as l:\n",
    "    json.dump(list, l)\n",
    "v=json.load(open('/Users/Administrator/Desktop/ms/list.json'))\n",
    "v\n"
   ]
  },
  {
   "cell_type": "code",
   "execution_count": 99,
   "metadata": {
    "collapsed": true
   },
   "outputs": [],
   "source": [
    "import dill\n",
    "def number (st):\n",
    "    return st,st\n",
    "with open ('/Users/Administrator/Desktop/ms/number.pkl','wb') as n:\n",
    "    dill.dump(number,n)\n",
    "\n",
    "\n"
   ]
  },
  {
   "cell_type": "code",
   "execution_count": null,
   "metadata": {
    "collapsed": false
   },
   "outputs": [],
   "source": []
  }
 ],
 "metadata": {
  "kernelspec": {
   "display_name": "Python 2",
   "language": "python",
   "name": "python2"
  },
  "language_info": {
   "codemirror_mode": {
    "name": "ipython",
    "version": 2
   },
   "file_extension": ".py",
   "mimetype": "text/x-python",
   "name": "python",
   "nbconvert_exporter": "python",
   "pygments_lexer": "ipython2",
   "version": "2.7.11"
  }
 },
 "nbformat": 4,
 "nbformat_minor": 0
}
