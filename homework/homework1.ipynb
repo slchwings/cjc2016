{
 "cells": [
  {
   "cell_type": "markdown",
   "metadata": {},
   "source": [
    "## 徐灿 15210130091\n",
    "# 计算新闻传播学 \n",
    "第一次作业"
   ]
  },
  {
   "cell_type": "code",
   "execution_count": 2,
   "metadata": {
    "collapsed": false
   },
   "outputs": [],
   "source": [
    "import random, datetime\n",
    "import numpy as np\n",
    "import pylab as plt \n",
    "import statsmodels.api as sm\n",
    "from scipy.stats import norm\n",
    "from scipy.stats.stats import pearsonr\n"
   ]
  },
  {
   "cell_type": "code",
   "execution_count": 3,
   "metadata": {
    "collapsed": false
   },
   "outputs": [
    {
     "data": {
      "text/plain": [
       "'3'"
      ]
     },
     "execution_count": 3,
     "metadata": {},
     "output_type": "execute_result"
    }
   ],
   "source": [
    "# str, int, float\n",
    "str(3)"
   ]
  },
  {
   "cell_type": "code",
   "execution_count": 4,
   "metadata": {
    "collapsed": false
   },
   "outputs": [
    {
     "data": {
      "text/plain": [
       "5"
      ]
     },
     "execution_count": 4,
     "metadata": {},
     "output_type": "execute_result"
    }
   ],
   "source": [
    "# int\n",
    "int('5')"
   ]
  },
  {
   "cell_type": "code",
   "execution_count": 5,
   "metadata": {
    "collapsed": false
   },
   "outputs": [
    {
     "data": {
      "text/plain": [
       "7.1"
      ]
     },
     "execution_count": 5,
     "metadata": {},
     "output_type": "execute_result"
    }
   ],
   "source": [
    "float('7.1')"
   ]
  },
  {
   "cell_type": "code",
   "execution_count": 6,
   "metadata": {
    "collapsed": false
   },
   "outputs": [
    {
     "data": {
      "text/plain": [
       "[0, 1, 2, 3, 4, 5, 6, 7, 8, 9]"
      ]
     },
     "execution_count": 6,
     "metadata": {},
     "output_type": "execute_result"
    }
   ],
   "source": [
    "range(10)"
   ]
  },
  {
   "cell_type": "code",
   "execution_count": 7,
   "metadata": {
    "collapsed": false
   },
   "outputs": [
    {
     "data": {
      "text/plain": [
       "[1, 2, 3, 4, 5, 6, 7, 8, 9]"
      ]
     },
     "execution_count": 7,
     "metadata": {},
     "output_type": "execute_result"
    }
   ],
   "source": [
    "range(1,10)"
   ]
  },
  {
   "cell_type": "code",
   "execution_count": 8,
   "metadata": {
    "collapsed": false
   },
   "outputs": [
    {
     "data": {
      "text/plain": [
       "<function dir>"
      ]
     },
     "execution_count": 8,
     "metadata": {},
     "output_type": "execute_result"
    }
   ],
   "source": [
    "dir"
   ]
  },
  {
   "cell_type": "code",
   "execution_count": 10,
   "metadata": {
    "collapsed": false
   },
   "outputs": [
    {
     "data": {
      "text/plain": [
       "['swapcase', 'title', 'translate', 'upper', 'zfill']"
      ]
     },
     "execution_count": 10,
     "metadata": {},
     "output_type": "execute_result"
    }
   ],
   "source": [
    "dir(str)[-5:]"
   ]
  },
  {
   "cell_type": "code",
   "execution_count": 17,
   "metadata": {
    "collapsed": false
   },
   "outputs": [
    {
     "data": {
      "text/plain": [
       "['rstrip',\n",
       " 'split',\n",
       " 'splitlines',\n",
       " 'startswith',\n",
       " 'strip',\n",
       " 'swapcase',\n",
       " 'title',\n",
       " 'translate',\n",
       " 'upper',\n",
       " 'zfill']"
      ]
     },
     "execution_count": 17,
     "metadata": {},
     "output_type": "execute_result"
    }
   ],
   "source": [
    "x = ' Hello WorlD  '\n",
    "dir(x)[-10:]"
   ]
  },
  {
   "cell_type": "code",
   "execution_count": 18,
   "metadata": {
    "collapsed": false
   },
   "outputs": [
    {
     "data": {
      "text/plain": [
       "' hello world  '"
      ]
     },
     "execution_count": 18,
     "metadata": {},
     "output_type": "execute_result"
    }
   ],
   "source": [
    "# lower\n",
    "x.lower()"
   ]
  },
  {
   "cell_type": "code",
   "execution_count": 19,
   "metadata": {
    "collapsed": false
   },
   "outputs": [
    {
     "data": {
      "text/plain": [
       "' HELLO WORLD  '"
      ]
     },
     "execution_count": 19,
     "metadata": {},
     "output_type": "execute_result"
    }
   ],
   "source": [
    "#upper\n",
    "x.upper()"
   ]
  },
  {
   "cell_type": "code",
   "execution_count": 20,
   "metadata": {
    "collapsed": false
   },
   "outputs": [
    {
     "data": {
      "text/plain": [
       "'Hello WorlD'"
      ]
     },
     "execution_count": 20,
     "metadata": {},
     "output_type": "execute_result"
    }
   ],
   "source": [
    "# strip\n",
    "x.strip()"
   ]
  },
  {
   "cell_type": "code",
   "execution_count": 21,
   "metadata": {
    "collapsed": false
   },
   "outputs": [
    {
     "data": {
      "text/plain": [
       "str"
      ]
     },
     "execution_count": 21,
     "metadata": {},
     "output_type": "execute_result"
    }
   ],
   "source": [
    "x = 'hello world'\n",
    "type(x)"
   ]
  },
  {
   "cell_type": "code",
   "execution_count": 28,
   "metadata": {
    "collapsed": false
   },
   "outputs": [
    {
     "name": "stdout",
     "output_type": "stream",
     "text": [
      "[1, 2, 3, 3] (1, 2, 3, 3) set([1, 2, 3]) {'a': 1, 'c': 3, 'b': 2} [1 2 3 3]\n"
     ]
    }
   ],
   "source": [
    "l = [1,2,3,3] #list\n",
    "t = (1, 2, 3, 3) #tuple\n",
    "s = set([1,2,3,3]) #set\n",
    "d = {'a':1,'b':2,'c':3}#dict\n",
    "a = np.array(l) #array\n",
    "print l, t, s, d, a"
   ]
  },
  {
   "cell_type": "code",
   "execution_count": 29,
   "metadata": {
    "collapsed": false
   },
   "outputs": [
    {
     "data": {
      "text/plain": [
       "[1, 2, 3, 3, 4]"
      ]
     },
     "execution_count": 29,
     "metadata": {},
     "output_type": "execute_result"
    }
   ],
   "source": [
    "l = [1,2,3,3] #list\n",
    "l.append(4)\n",
    "l"
   ]
  },
  {
   "cell_type": "code",
   "execution_count": 31,
   "metadata": {
    "collapsed": false
   },
   "outputs": [
    {
     "data": {
      "text/plain": [
       "['a', 'c', 'b']"
      ]
     },
     "execution_count": 31,
     "metadata": {},
     "output_type": "execute_result"
    }
   ],
   "source": [
    "d = {'a':1,'b':2,'c':3}\n",
    "d.keys()"
   ]
  },
  {
   "cell_type": "code",
   "execution_count": 32,
   "metadata": {
    "collapsed": false
   },
   "outputs": [
    {
     "data": {
      "text/plain": [
       "[1, 3, 2]"
      ]
     },
     "execution_count": 32,
     "metadata": {},
     "output_type": "execute_result"
    }
   ],
   "source": [
    "d = {'a':1,'b':2,'c':3}\n",
    "d.values()"
   ]
  },
  {
   "cell_type": "code",
   "execution_count": 33,
   "metadata": {
    "collapsed": false
   },
   "outputs": [
    {
     "data": {
      "text/plain": [
       "2"
      ]
     },
     "execution_count": 33,
     "metadata": {},
     "output_type": "execute_result"
    }
   ],
   "source": [
    "d = {'a':1,'b':2,'c':3}\n",
    "d['b']"
   ]
  },
  {
   "cell_type": "code",
   "execution_count": 35,
   "metadata": {
    "collapsed": false
   },
   "outputs": [
    {
     "data": {
      "text/plain": [
       "[('a', 1), ('c', 3), ('b', 2)]"
      ]
     },
     "execution_count": 35,
     "metadata": {},
     "output_type": "execute_result"
    }
   ],
   "source": [
    "d = {'a':1,'b':2,'c':3} #dict\n",
    "d.items()"
   ]
  },
  {
   "cell_type": "code",
   "execution_count": 36,
   "metadata": {
    "collapsed": true
   },
   "outputs": [],
   "source": [
    "def devidePlus(m,n):\n",
    "    return float(m)/n+ 1"
   ]
  },
  {
   "cell_type": "code",
   "execution_count": 37,
   "metadata": {
    "collapsed": false
   },
   "outputs": [
    {
     "data": {
      "text/plain": [
       "[0, 1, 2, 3, 4, 5, 6, 7, 8, 9]"
      ]
     },
     "execution_count": 37,
     "metadata": {},
     "output_type": "execute_result"
    }
   ],
   "source": [
    "range(10)"
   ]
  },
  {
   "cell_type": "code",
   "execution_count": 38,
   "metadata": {
    "collapsed": false
   },
   "outputs": [
    {
     "data": {
      "text/plain": [
       "[1, 2, 3, 4, 5, 6, 7, 8, 9]"
      ]
     },
     "execution_count": 38,
     "metadata": {},
     "output_type": "execute_result"
    }
   ],
   "source": [
    "range(1,10)"
   ]
  },
  {
   "cell_type": "code",
   "execution_count": 39,
   "metadata": {
    "collapsed": false
   },
   "outputs": [
    {
     "name": "stdout",
     "output_type": "stream",
     "text": [
      "0 0 1\n",
      "1 10 1\n",
      "2 20 1\n",
      "3 30 1\n",
      "4 40 1\n",
      "5 50 1\n",
      "6 60 1\n",
      "7 70 1\n",
      "8 80 1\n",
      "9 90 1\n"
     ]
    }
   ],
   "source": [
    "for i in range(10):\n",
    "    print i,i*10,1**2"
   ]
  },
  {
   "cell_type": "code",
   "execution_count": 40,
   "metadata": {
    "collapsed": false
   },
   "outputs": [
    {
     "name": "stdout",
     "output_type": "stream",
     "text": [
      "0\n",
      "10\n",
      "20\n",
      "30\n",
      "40\n",
      "50\n",
      "60\n",
      "70\n",
      "80\n",
      "90\n"
     ]
    }
   ],
   "source": [
    "for i in range(10):\n",
    "    print i*10"
   ]
  },
  {
   "cell_type": "code",
   "execution_count": 42,
   "metadata": {
    "collapsed": false
   },
   "outputs": [
    {
     "data": {
      "text/plain": [
       "[1.0, 1.5, 2.0, 2.5, 3.0, 3.5, 4.0, 4.5, 5.0, 5.5]"
      ]
     },
     "execution_count": 42,
     "metadata": {},
     "output_type": "execute_result"
    }
   ],
   "source": [
    "r = [devidePlus(i,2) for i in range(10)]\n",
    "r"
   ]
  },
  {
   "cell_type": "code",
   "execution_count": 44,
   "metadata": {
    "collapsed": false
   },
   "outputs": [
    {
     "data": {
      "text/plain": [
       "[1.4, 1.8]"
      ]
     },
     "execution_count": 44,
     "metadata": {},
     "output_type": "execute_result"
    }
   ],
   "source": [
    "map(devidePlus, [4,4],[10,5])"
   ]
  },
  {
   "cell_type": "code",
   "execution_count": 47,
   "metadata": {
    "collapsed": false
   },
   "outputs": [
    {
     "name": "stdout",
     "output_type": "stream",
     "text": [
      "余数是1\n"
     ]
    }
   ],
   "source": [
    "j = 3\n",
    "if j%2 == 1:\n",
    "    print r'余数是1'\n",
    "elif j%2 ==2:\n",
    "    print r'余数是2'\n",
    "else:\n",
    "    print r'余数既不是1也不是2'"
   ]
  },
  {
   "cell_type": "code",
   "execution_count": 48,
   "metadata": {
    "collapsed": false
   },
   "outputs": [
    {
     "name": "stdout",
     "output_type": "stream",
     "text": [
      "(5, 0, 10)\n"
     ]
    }
   ],
   "source": [
    "x = 5\n",
    "if x < 5:\n",
    "    y = -1\n",
    "    z = 5\n",
    "elif x > 5:\n",
    "    y = 1\n",
    "    z = 11\n",
    "else:\n",
    "    y = 0\n",
    "    z = 10\n",
    "print(x,y,z)"
   ]
  },
  {
   "cell_type": "code",
   "execution_count": 50,
   "metadata": {
    "collapsed": false
   },
   "outputs": [
    {
     "name": "stdout",
     "output_type": "stream",
     "text": [
      "0\n",
      "5\n",
      "10\n",
      "15\n"
     ]
    }
   ],
   "source": [
    "j = 0\n",
    "while j < 20:\n",
    "    print j\n",
    "    j+=5"
   ]
  },
  {
   "cell_type": "code",
   "execution_count": 51,
   "metadata": {
    "collapsed": false
   },
   "outputs": [
    {
     "name": "stdout",
     "output_type": "stream",
     "text": [
      "1\n",
      "9\n",
      "25\n",
      "49\n",
      "81\n"
     ]
    }
   ],
   "source": [
    "j = 0\n",
    "while j < 10:\n",
    "    if j%2 !=0:\n",
    "        print j**2\n",
    "    j+=1"
   ]
  },
  {
   "cell_type": "code",
   "execution_count": 54,
   "metadata": {
    "collapsed": false
   },
   "outputs": [
    {
     "name": "stdout",
     "output_type": "stream",
     "text": [
      "1\n",
      "9\n",
      "25\n",
      "49\n",
      "81\n",
      "121\n",
      "169\n",
      "225\n",
      "289\n",
      "361\n",
      "441\n",
      "529\n",
      "625\n",
      "729\n",
      "841\n"
     ]
    }
   ],
   "source": [
    "j = 0\n",
    "while j < 50:\n",
    "    if j == 30:\n",
    "        break\n",
    "    if j%2 != 0:\n",
    "        print j**2\n",
    "    j+=1"
   ]
  },
  {
   "cell_type": "code",
   "execution_count": 55,
   "metadata": {
    "collapsed": false
   },
   "outputs": [
    {
     "name": "stdout",
     "output_type": "stream",
     "text": [
      "3.0\n",
      "float division by zero\n",
      "1.8\n"
     ]
    }
   ],
   "source": [
    "for i in [2, 0, 5]:\n",
    "    try:\n",
    "        print devidePlus(4,i)\n",
    "    except Exception,e:\n",
    "        print e\n",
    "        pass\n",
    "    "
   ]
  },
  {
   "cell_type": "code",
   "execution_count": 83,
   "metadata": {
    "collapsed": false
   },
   "outputs": [
    {
     "data": {
      "text/plain": [
       "[[0, 0, 0],\n",
       " [1, 1, 1],\n",
       " [2, 4, 8],\n",
       " [3, 9, 27],\n",
       " [4, 16, 64],\n",
       " [5, 25, 125],\n",
       " [6, 36, 216],\n",
       " [7, 49, 343],\n",
       " [8, 64, 512],\n",
       " [9, 81, 729]]"
      ]
     },
     "execution_count": 83,
     "metadata": {},
     "output_type": "execute_result"
    }
   ],
   "source": [
    "data = [[i,i**2,i**3] for i in range(10)]\n",
    "data"
   ]
  },
  {
   "cell_type": "code",
   "execution_count": 84,
   "metadata": {
    "collapsed": false
   },
   "outputs": [
    {
     "name": "stdout",
     "output_type": "stream",
     "text": [
      "0\t0\t0\n",
      "1\t1\t1\n",
      "2\t4\t8\n",
      "3\t9\t27\n",
      "4\t16\t64\n",
      "5\t25\t125\n",
      "6\t36\t216\n",
      "7\t49\t343\n",
      "8\t64\t512\n",
      "9\t81\t729\n"
     ]
    }
   ],
   "source": [
    "for i in data:\n",
    "    print'\\t'.join(map(str,i))"
   ]
  },
  {
   "cell_type": "code",
   "execution_count": 85,
   "metadata": {
    "collapsed": false
   },
   "outputs": [
    {
     "data": {
      "text/plain": [
       "list"
      ]
     },
     "execution_count": 85,
     "metadata": {},
     "output_type": "execute_result"
    }
   ],
   "source": [
    "type(data)"
   ]
  },
  {
   "cell_type": "code",
   "execution_count": 86,
   "metadata": {
    "collapsed": false
   },
   "outputs": [
    {
     "data": {
      "text/plain": [
       "10"
      ]
     },
     "execution_count": 86,
     "metadata": {},
     "output_type": "execute_result"
    }
   ],
   "source": [
    "len(data)"
   ]
  },
  {
   "cell_type": "code",
   "execution_count": 87,
   "metadata": {
    "collapsed": false
   },
   "outputs": [
    {
     "data": {
      "text/plain": [
       "[0, 0, 0]"
      ]
     },
     "execution_count": 87,
     "metadata": {},
     "output_type": "execute_result"
    }
   ],
   "source": [
    "data[0]"
   ]
  },
  {
   "cell_type": "code",
   "execution_count": 113,
   "metadata": {
    "collapsed": false
   },
   "outputs": [],
   "source": [
    "data =[[i,i**2,i**4] for i in range(200)]\n",
    "\n",
    "f = open(\"/Users/dustin/Desktop/homework1.txt\", \"wb\")\n",
    "for i in data:\n",
    "    f.write('\\t'.join(map(str,i)) + '\\n')\n",
    "f.close()"
   ]
  },
  {
   "cell_type": "code",
   "execution_count": 114,
   "metadata": {
    "collapsed": false
   },
   "outputs": [
    {
     "data": {
      "text/plain": [
       "['0\\t0\\t0\\n', '1\\t1\\t1\\n', '2\\t4\\t16\\n', '3\\t9\\t81\\n', '4\\t16\\t256\\n']"
      ]
     },
     "execution_count": 114,
     "metadata": {},
     "output_type": "execute_result"
    }
   ],
   "source": [
    "with open('/Users/dustin/Desktop/homework1.txt','r')as f:\n",
    "    data = f.readlines()\n",
    "data[:5]"
   ]
  },
  {
   "cell_type": "code",
   "execution_count": 115,
   "metadata": {
    "collapsed": false
   },
   "outputs": [
    {
     "data": {
      "text/plain": [
       "200"
      ]
     },
     "execution_count": 115,
     "metadata": {},
     "output_type": "execute_result"
    }
   ],
   "source": [
    "with open('/Users/dustin/Desktop/homework1.txt','r')as f:\n",
    "    data = f.readlines(100)\n",
    "len(data)"
   ]
  },
  {
   "cell_type": "code",
   "execution_count": 116,
   "metadata": {
    "collapsed": false
   },
   "outputs": [
    {
     "name": "stdout",
     "output_type": "stream",
     "text": [
      "0\t0\t0\n",
      "\n"
     ]
    }
   ],
   "source": [
    "with open ('/Users/dustin/Desktop/homework1.txt','r')as f:\n",
    "    print f.readline()"
   ]
  },
  {
   "cell_type": "code",
   "execution_count": 118,
   "metadata": {
    "collapsed": false
   },
   "outputs": [
    {
     "name": "stdout",
     "output_type": "stream",
     "text": [
      "0\t0\t0\n",
      "\n",
      "20\t400\t160000\n",
      "\n",
      "40\t1600\t2560000\n",
      "\n",
      "60\t3600\t12960000\n",
      "\n",
      "80\t6400\t40960000\n",
      "\n",
      "100\t10000\t100000000\n",
      "\n",
      "120\t14400\t207360000\n",
      "\n",
      "140\t19600\t384160000\n",
      "\n",
      "160\t25600\t655360000\n",
      "\n",
      "180\t32400\t1049760000\n",
      "\n"
     ]
    }
   ],
   "source": [
    "with open('/Users/dustin/Desktop/homework1.txt','r')as f:\n",
    "    for k, i in enumerate(f):\n",
    "        if k%20 ==0:\n",
    "            print i"
   ]
  },
  {
   "cell_type": "code",
   "execution_count": 120,
   "metadata": {
    "collapsed": false
   },
   "outputs": [
    {
     "data": {
      "text/plain": [
       "[[0, 0, 0],\n",
       " [1, 1, 1],\n",
       " [2, 4, 16],\n",
       " [3, 9, 81],\n",
       " [4, 16, 256],\n",
       " [5, 25, 625],\n",
       " [6, 36, 1296],\n",
       " [7, 49, 2401],\n",
       " [8, 64, 4096],\n",
       " [9, 81, 6561],\n",
       " [10, 100, 10000],\n",
       " [11, 121, 14641],\n",
       " [12, 144, 20736],\n",
       " [13, 169, 28561],\n",
       " [14, 196, 38416],\n",
       " [15, 225, 50625],\n",
       " [16, 256, 65536],\n",
       " [17, 289, 83521],\n",
       " [18, 324, 104976],\n",
       " [19, 361, 130321],\n",
       " [20, 400, 160000],\n",
       " [21, 441, 194481],\n",
       " [22, 484, 234256],\n",
       " [23, 529, 279841],\n",
       " [24, 576, 331776],\n",
       " [25, 625, 390625],\n",
       " [26, 676, 456976],\n",
       " [27, 729, 531441],\n",
       " [28, 784, 614656],\n",
       " [29, 841, 707281],\n",
       " [30, 900, 810000],\n",
       " [31, 961, 923521],\n",
       " [32, 1024, 1048576],\n",
       " [33, 1089, 1185921],\n",
       " [34, 1156, 1336336],\n",
       " [35, 1225, 1500625],\n",
       " [36, 1296, 1679616],\n",
       " [37, 1369, 1874161],\n",
       " [38, 1444, 2085136],\n",
       " [39, 1521, 2313441],\n",
       " [40, 1600, 2560000],\n",
       " [41, 1681, 2825761],\n",
       " [42, 1764, 3111696],\n",
       " [43, 1849, 3418801],\n",
       " [44, 1936, 3748096],\n",
       " [45, 2025, 4100625],\n",
       " [46, 2116, 4477456],\n",
       " [47, 2209, 4879681],\n",
       " [48, 2304, 5308416],\n",
       " [49, 2401, 5764801],\n",
       " [50, 2500, 6250000],\n",
       " [51, 2601, 6765201],\n",
       " [52, 2704, 7311616],\n",
       " [53, 2809, 7890481],\n",
       " [54, 2916, 8503056],\n",
       " [55, 3025, 9150625],\n",
       " [56, 3136, 9834496],\n",
       " [57, 3249, 10556001],\n",
       " [58, 3364, 11316496],\n",
       " [59, 3481, 12117361],\n",
       " [60, 3600, 12960000],\n",
       " [61, 3721, 13845841],\n",
       " [62, 3844, 14776336],\n",
       " [63, 3969, 15752961],\n",
       " [64, 4096, 16777216],\n",
       " [65, 4225, 17850625],\n",
       " [66, 4356, 18974736],\n",
       " [67, 4489, 20151121],\n",
       " [68, 4624, 21381376],\n",
       " [69, 4761, 22667121],\n",
       " [70, 4900, 24010000],\n",
       " [71, 5041, 25411681],\n",
       " [72, 5184, 26873856],\n",
       " [73, 5329, 28398241],\n",
       " [74, 5476, 29986576],\n",
       " [75, 5625, 31640625],\n",
       " [76, 5776, 33362176],\n",
       " [77, 5929, 35153041],\n",
       " [78, 6084, 37015056],\n",
       " [79, 6241, 38950081],\n",
       " [80, 6400, 40960000],\n",
       " [81, 6561, 43046721],\n",
       " [82, 6724, 45212176],\n",
       " [83, 6889, 47458321],\n",
       " [84, 7056, 49787136],\n",
       " [85, 7225, 52200625],\n",
       " [86, 7396, 54700816],\n",
       " [87, 7569, 57289761],\n",
       " [88, 7744, 59969536],\n",
       " [89, 7921, 62742241],\n",
       " [90, 8100, 65610000],\n",
       " [91, 8281, 68574961],\n",
       " [92, 8464, 71639296],\n",
       " [93, 8649, 74805201],\n",
       " [94, 8836, 78074896],\n",
       " [95, 9025, 81450625],\n",
       " [96, 9216, 84934656],\n",
       " [97, 9409, 88529281],\n",
       " [98, 9604, 92236816],\n",
       " [99, 9801, 96059601],\n",
       " [100, 10000, 100000000],\n",
       " [101, 10201, 104060401],\n",
       " [102, 10404, 108243216],\n",
       " [103, 10609, 112550881],\n",
       " [104, 10816, 116985856],\n",
       " [105, 11025, 121550625],\n",
       " [106, 11236, 126247696],\n",
       " [107, 11449, 131079601],\n",
       " [108, 11664, 136048896],\n",
       " [109, 11881, 141158161],\n",
       " [110, 12100, 146410000],\n",
       " [111, 12321, 151807041],\n",
       " [112, 12544, 157351936],\n",
       " [113, 12769, 163047361],\n",
       " [114, 12996, 168896016],\n",
       " [115, 13225, 174900625],\n",
       " [116, 13456, 181063936],\n",
       " [117, 13689, 187388721],\n",
       " [118, 13924, 193877776],\n",
       " [119, 14161, 200533921],\n",
       " [120, 14400, 207360000],\n",
       " [121, 14641, 214358881],\n",
       " [122, 14884, 221533456],\n",
       " [123, 15129, 228886641],\n",
       " [124, 15376, 236421376],\n",
       " [125, 15625, 244140625],\n",
       " [126, 15876, 252047376],\n",
       " [127, 16129, 260144641],\n",
       " [128, 16384, 268435456],\n",
       " [129, 16641, 276922881],\n",
       " [130, 16900, 285610000],\n",
       " [131, 17161, 294499921],\n",
       " [132, 17424, 303595776],\n",
       " [133, 17689, 312900721],\n",
       " [134, 17956, 322417936],\n",
       " [135, 18225, 332150625],\n",
       " [136, 18496, 342102016],\n",
       " [137, 18769, 352275361],\n",
       " [138, 19044, 362673936],\n",
       " [139, 19321, 373301041],\n",
       " [140, 19600, 384160000],\n",
       " [141, 19881, 395254161],\n",
       " [142, 20164, 406586896],\n",
       " [143, 20449, 418161601],\n",
       " [144, 20736, 429981696],\n",
       " [145, 21025, 442050625],\n",
       " [146, 21316, 454371856],\n",
       " [147, 21609, 466948881],\n",
       " [148, 21904, 479785216],\n",
       " [149, 22201, 492884401],\n",
       " [150, 22500, 506250000],\n",
       " [151, 22801, 519885601],\n",
       " [152, 23104, 533794816],\n",
       " [153, 23409, 547981281],\n",
       " [154, 23716, 562448656],\n",
       " [155, 24025, 577200625],\n",
       " [156, 24336, 592240896],\n",
       " [157, 24649, 607573201],\n",
       " [158, 24964, 623201296],\n",
       " [159, 25281, 639128961],\n",
       " [160, 25600, 655360000],\n",
       " [161, 25921, 671898241],\n",
       " [162, 26244, 688747536],\n",
       " [163, 26569, 705911761],\n",
       " [164, 26896, 723394816],\n",
       " [165, 27225, 741200625],\n",
       " [166, 27556, 759333136],\n",
       " [167, 27889, 777796321],\n",
       " [168, 28224, 796594176],\n",
       " [169, 28561, 815730721],\n",
       " [170, 28900, 835210000],\n",
       " [171, 29241, 855036081],\n",
       " [172, 29584, 875213056],\n",
       " [173, 29929, 895745041],\n",
       " [174, 30276, 916636176],\n",
       " [175, 30625, 937890625],\n",
       " [176, 30976, 959512576],\n",
       " [177, 31329, 981506241],\n",
       " [178, 31684, 1003875856],\n",
       " [179, 32041, 1026625681],\n",
       " [180, 32400, 1049760000],\n",
       " [181, 32761, 1073283121],\n",
       " [182, 33124, 1097199376],\n",
       " [183, 33489, 1121513121],\n",
       " [184, 33856, 1146228736],\n",
       " [185, 34225, 1171350625],\n",
       " [186, 34596, 1196883216],\n",
       " [187, 34969, 1222830961],\n",
       " [188, 35344, 1249198336],\n",
       " [189, 35721, 1275989841],\n",
       " [190, 36100, 1303210000],\n",
       " [191, 36481, 1330863361],\n",
       " [192, 36864, 1358954496],\n",
       " [193, 37249, 1387488001],\n",
       " [194, 37636, 1416468496],\n",
       " [195, 38025, 1445900625],\n",
       " [196, 38416, 1475789056],\n",
       " [197, 38809, 1506138481],\n",
       " [198, 39204, 1536953616],\n",
       " [199, 39601, 1568239201]]"
      ]
     },
     "execution_count": 120,
     "metadata": {},
     "output_type": "execute_result"
    }
   ],
   "source": [
    "# 读取数据\n",
    "data = []\n",
    "with open('/Users/dustin/Desktop/homework1.txt','r')as f:\n",
    "    for line in f:\n",
    "        line = line.replace('\\n','').split('\\t')\n",
    "        line = [int(i) for i in line]\n",
    "        data.append(line)\n",
    "data"
   ]
  },
  {
   "cell_type": "code",
   "execution_count": null,
   "metadata": {
    "collapsed": true
   },
   "outputs": [],
   "source": []
  }
 ],
 "metadata": {
  "kernelspec": {
   "display_name": "Python 2",
   "language": "python",
   "name": "python2"
  },
  "language_info": {
   "codemirror_mode": {
    "name": "ipython",
    "version": 2
   },
   "file_extension": ".py",
   "mimetype": "text/x-python",
   "name": "python",
   "nbconvert_exporter": "python",
   "pygments_lexer": "ipython2",
   "version": "2.7.11"
  }
 },
 "nbformat": 4,
 "nbformat_minor": 0
}
